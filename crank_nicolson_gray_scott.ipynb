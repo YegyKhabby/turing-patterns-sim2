{
 "cells": [
  {
   "cell_type": "code",
   "execution_count": null,
   "id": "d43b9592",
   "metadata": {},
   "outputs": [],
   "source": []
  }
 ],
 "metadata": {
  "kernelspec": {
   "display_name": "base",
   "language": "python",
   "name": "python3"
  },
  "language_info": {
   "name": "python",
   "version": "3.10.9"
  }
 },
 "nbformat": 4,
 "nbformat_minor": 5
}
